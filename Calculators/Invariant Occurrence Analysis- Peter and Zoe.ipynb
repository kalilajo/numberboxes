{
 "cells": [
  {
   "cell_type": "code",
   "execution_count": 1,
   "metadata": {},
   "outputs": [],
   "source": [
    "import pandas as pd\n",
    "from statistics import mean\n",
    "import ast"
   ]
  },
  {
   "cell_type": "code",
   "execution_count": 17,
   "metadata": {},
   "outputs": [],
   "source": [
    "g20k5 = pd.read_csv(\"g20k5skip.csv\")"
   ]
  },
  {
   "cell_type": "code",
   "execution_count": 37,
   "metadata": {},
   "outputs": [
    {
     "data": {
      "text/html": [
       "<div>\n",
       "<style scoped>\n",
       "    .dataframe tbody tr th:only-of-type {\n",
       "        vertical-align: middle;\n",
       "    }\n",
       "\n",
       "    .dataframe tbody tr th {\n",
       "        vertical-align: top;\n",
       "    }\n",
       "\n",
       "    .dataframe thead th {\n",
       "        text-align: right;\n",
       "    }\n",
       "</style>\n",
       "<table border=\"1\" class=\"dataframe\">\n",
       "  <thead>\n",
       "    <tr style=\"text-align: right;\">\n",
       "      <th></th>\n",
       "      <th>bk</th>\n",
       "      <th>ranks</th>\n",
       "      <th>scrollar invariants</th>\n",
       "      <th>gonality</th>\n",
       "      <th>genus</th>\n",
       "      <th>torsion</th>\n",
       "      <th>mean scrollar invariant</th>\n",
       "      <th>first scrollar invariant</th>\n",
       "      <th>profile</th>\n",
       "      <th>profile_as_list</th>\n",
       "    </tr>\n",
       "    <tr>\n",
       "      <th>ak</th>\n",
       "      <th></th>\n",
       "      <th></th>\n",
       "      <th></th>\n",
       "      <th></th>\n",
       "      <th></th>\n",
       "      <th></th>\n",
       "      <th></th>\n",
       "      <th></th>\n",
       "      <th></th>\n",
       "      <th></th>\n",
       "    </tr>\n",
       "  </thead>\n",
       "  <tbody>\n",
       "    <tr>\n",
       "      <th>[10, 11, 12]</th>\n",
       "      <td>46</td>\n",
       "      <td>46</td>\n",
       "      <td>46</td>\n",
       "      <td>46</td>\n",
       "      <td>46</td>\n",
       "      <td>46</td>\n",
       "      <td>46</td>\n",
       "      <td>46</td>\n",
       "      <td>46</td>\n",
       "      <td>46</td>\n",
       "    </tr>\n",
       "    <tr>\n",
       "      <th>[10, 11, 13]</th>\n",
       "      <td>46</td>\n",
       "      <td>46</td>\n",
       "      <td>46</td>\n",
       "      <td>46</td>\n",
       "      <td>46</td>\n",
       "      <td>46</td>\n",
       "      <td>46</td>\n",
       "      <td>46</td>\n",
       "      <td>46</td>\n",
       "      <td>46</td>\n",
       "    </tr>\n",
       "    <tr>\n",
       "      <th>[10, 11, 14]</th>\n",
       "      <td>44</td>\n",
       "      <td>44</td>\n",
       "      <td>44</td>\n",
       "      <td>44</td>\n",
       "      <td>44</td>\n",
       "      <td>44</td>\n",
       "      <td>44</td>\n",
       "      <td>44</td>\n",
       "      <td>44</td>\n",
       "      <td>44</td>\n",
       "    </tr>\n",
       "    <tr>\n",
       "      <th>[10, 11, 15]</th>\n",
       "      <td>41</td>\n",
       "      <td>41</td>\n",
       "      <td>41</td>\n",
       "      <td>41</td>\n",
       "      <td>41</td>\n",
       "      <td>41</td>\n",
       "      <td>41</td>\n",
       "      <td>41</td>\n",
       "      <td>41</td>\n",
       "      <td>41</td>\n",
       "    </tr>\n",
       "    <tr>\n",
       "      <th>[10, 11, 16]</th>\n",
       "      <td>37</td>\n",
       "      <td>37</td>\n",
       "      <td>37</td>\n",
       "      <td>37</td>\n",
       "      <td>37</td>\n",
       "      <td>37</td>\n",
       "      <td>37</td>\n",
       "      <td>37</td>\n",
       "      <td>37</td>\n",
       "      <td>37</td>\n",
       "    </tr>\n",
       "    <tr>\n",
       "      <th>...</th>\n",
       "      <td>...</td>\n",
       "      <td>...</td>\n",
       "      <td>...</td>\n",
       "      <td>...</td>\n",
       "      <td>...</td>\n",
       "      <td>...</td>\n",
       "      <td>...</td>\n",
       "      <td>...</td>\n",
       "      <td>...</td>\n",
       "      <td>...</td>\n",
       "    </tr>\n",
       "    <tr>\n",
       "      <th>[9, 16, 18]</th>\n",
       "      <td>14</td>\n",
       "      <td>14</td>\n",
       "      <td>14</td>\n",
       "      <td>14</td>\n",
       "      <td>14</td>\n",
       "      <td>14</td>\n",
       "      <td>14</td>\n",
       "      <td>14</td>\n",
       "      <td>14</td>\n",
       "      <td>14</td>\n",
       "    </tr>\n",
       "    <tr>\n",
       "      <th>[9, 16, 19]</th>\n",
       "      <td>7</td>\n",
       "      <td>7</td>\n",
       "      <td>7</td>\n",
       "      <td>7</td>\n",
       "      <td>7</td>\n",
       "      <td>7</td>\n",
       "      <td>7</td>\n",
       "      <td>7</td>\n",
       "      <td>7</td>\n",
       "      <td>7</td>\n",
       "    </tr>\n",
       "    <tr>\n",
       "      <th>[9, 17, 18]</th>\n",
       "      <td>6</td>\n",
       "      <td>6</td>\n",
       "      <td>6</td>\n",
       "      <td>6</td>\n",
       "      <td>6</td>\n",
       "      <td>6</td>\n",
       "      <td>6</td>\n",
       "      <td>6</td>\n",
       "      <td>6</td>\n",
       "      <td>6</td>\n",
       "    </tr>\n",
       "    <tr>\n",
       "      <th>[9, 17, 19]</th>\n",
       "      <td>7</td>\n",
       "      <td>7</td>\n",
       "      <td>7</td>\n",
       "      <td>7</td>\n",
       "      <td>7</td>\n",
       "      <td>7</td>\n",
       "      <td>7</td>\n",
       "      <td>7</td>\n",
       "      <td>7</td>\n",
       "      <td>7</td>\n",
       "    </tr>\n",
       "    <tr>\n",
       "      <th>[9, 18, 19]</th>\n",
       "      <td>6</td>\n",
       "      <td>6</td>\n",
       "      <td>6</td>\n",
       "      <td>6</td>\n",
       "      <td>6</td>\n",
       "      <td>6</td>\n",
       "      <td>6</td>\n",
       "      <td>6</td>\n",
       "      <td>6</td>\n",
       "      <td>6</td>\n",
       "    </tr>\n",
       "  </tbody>\n",
       "</table>\n",
       "<p>816 rows × 10 columns</p>\n",
       "</div>"
      ],
      "text/plain": [
       "              bk  ranks  scrollar invariants  gonality  genus  torsion  \\\n",
       "ak                                                                       \n",
       "[10, 11, 12]  46     46                   46        46     46       46   \n",
       "[10, 11, 13]  46     46                   46        46     46       46   \n",
       "[10, 11, 14]  44     44                   44        44     44       44   \n",
       "[10, 11, 15]  41     41                   41        41     41       41   \n",
       "[10, 11, 16]  37     37                   37        37     37       37   \n",
       "...           ..    ...                  ...       ...    ...      ...   \n",
       "[9, 16, 18]   14     14                   14        14     14       14   \n",
       "[9, 16, 19]    7      7                    7         7      7        7   \n",
       "[9, 17, 18]    6      6                    6         6      6        6   \n",
       "[9, 17, 19]    7      7                    7         7      7        7   \n",
       "[9, 18, 19]    6      6                    6         6      6        6   \n",
       "\n",
       "              mean scrollar invariant  first scrollar invariant  profile  \\\n",
       "ak                                                                         \n",
       "[10, 11, 12]                       46                        46       46   \n",
       "[10, 11, 13]                       46                        46       46   \n",
       "[10, 11, 14]                       44                        44       44   \n",
       "[10, 11, 15]                       41                        41       41   \n",
       "[10, 11, 16]                       37                        37       37   \n",
       "...                               ...                       ...      ...   \n",
       "[9, 16, 18]                        14                        14       14   \n",
       "[9, 16, 19]                         7                         7        7   \n",
       "[9, 17, 18]                         6                         6        6   \n",
       "[9, 17, 19]                         7                         7        7   \n",
       "[9, 18, 19]                         6                         6        6   \n",
       "\n",
       "              profile_as_list  \n",
       "ak                             \n",
       "[10, 11, 12]               46  \n",
       "[10, 11, 13]               46  \n",
       "[10, 11, 14]               44  \n",
       "[10, 11, 15]               41  \n",
       "[10, 11, 16]               37  \n",
       "...                       ...  \n",
       "[9, 16, 18]                14  \n",
       "[9, 16, 19]                 7  \n",
       "[9, 17, 18]                 6  \n",
       "[9, 17, 19]                 7  \n",
       "[9, 18, 19]                 6  \n",
       "\n",
       "[816 rows x 10 columns]"
      ]
     },
     "execution_count": 37,
     "metadata": {},
     "output_type": "execute_result"
    }
   ],
   "source": [
    "g20k5.groupby(['ak']).count()"
   ]
  },
  {
   "cell_type": "code",
   "execution_count": 18,
   "metadata": {},
   "outputs": [],
   "source": [
    "g20k5['mean scrollar invariant'] = g20k5['scrollar invariants'].map(lambda x: mean(ast.literal_eval(x).values()))"
   ]
  },
  {
   "cell_type": "code",
   "execution_count": 42,
   "metadata": {},
   "outputs": [],
   "source": [
    "#pd.set_option('display.max_rows', 500)\n",
    "#pd.set_option('display.max_columns', 500)\n",
    "pd.set_option('display.expand_frame_repr', False)"
   ]
  },
  {
   "cell_type": "code",
   "execution_count": 59,
   "metadata": {
    "scrolled": true
   },
   "outputs": [
    {
     "name": "stdout",
     "output_type": "stream",
     "text": [
      "[0, 0, 2, 2, 2, 2, 2, 2, 0, 3, 3, 3, 3, 0, 2, 0, 0, 2, 0]\n"
     ]
    }
   ],
   "source": [
    "n = 10\n",
    "print(g20k5.nlargest(n, 'mean scrollar invariant')['torsion'].values[0])\n",
    "    "
   ]
  },
  {
   "cell_type": "code",
   "execution_count": 60,
   "metadata": {},
   "outputs": [
    {
     "data": {
      "text/plain": [
       "'[0, 0, 0, 2, 2, 2, 2, 2, 2, 2, 2, 2, 2, 2, 2, 2, 2, 2, 0]'"
      ]
     },
     "execution_count": 60,
     "metadata": {},
     "output_type": "execute_result"
    }
   ],
   "source": [
    "# torsion profiles of n smallest mean scrollar invariants\n",
    "n = 10\n",
    "g20k5.nsmallest(n, 'mean scrollar invariant')['torsion'].values[0]"
   ]
  },
  {
   "cell_type": "code",
   "execution_count": 21,
   "metadata": {},
   "outputs": [],
   "source": [
    "# maximizing first scrollar invariant\n",
    "g20k5['first scrollar invariant'] = g20k5['scrollar invariants'].map(lambda x: ast.literal_eval(x)[1])"
   ]
  },
  {
   "cell_type": "code",
   "execution_count": 22,
   "metadata": {},
   "outputs": [
    {
     "data": {
      "text/html": [
       "<div>\n",
       "<style scoped>\n",
       "    .dataframe tbody tr th:only-of-type {\n",
       "        vertical-align: middle;\n",
       "    }\n",
       "\n",
       "    .dataframe tbody tr th {\n",
       "        vertical-align: top;\n",
       "    }\n",
       "\n",
       "    .dataframe thead th {\n",
       "        text-align: right;\n",
       "    }\n",
       "</style>\n",
       "<table border=\"1\" class=\"dataframe\">\n",
       "  <thead>\n",
       "    <tr style=\"text-align: right;\">\n",
       "      <th></th>\n",
       "      <th>scrollar invariants</th>\n",
       "      <th>torsion</th>\n",
       "    </tr>\n",
       "  </thead>\n",
       "  <tbody>\n",
       "    <tr>\n",
       "      <th>6805</th>\n",
       "      <td>{0: 0, 1: 6, 2: 12, 3: 18, 4: 24}</td>\n",
       "      <td>[0, 0, 2, 2, 2, 2, 2, 2, 0, 3, 3, 3, 3, 0, 2, ...</td>\n",
       "    </tr>\n",
       "    <tr>\n",
       "      <th>6812</th>\n",
       "      <td>{0: 0, 1: 6, 2: 12, 3: 18, 4: 24}</td>\n",
       "      <td>[0, 0, 2, 2, 2, 2, 2, 2, 2, 0, 3, 3, 3, 0, 2, ...</td>\n",
       "    </tr>\n",
       "    <tr>\n",
       "      <th>7149</th>\n",
       "      <td>{0: 0, 1: 6, 2: 12, 3: 18, 4: 24}</td>\n",
       "      <td>[0, 0, 2, 2, 2, 2, 2, 2, 0, 3, 3, 3, 3, 3, 0, ...</td>\n",
       "    </tr>\n",
       "    <tr>\n",
       "      <th>7156</th>\n",
       "      <td>{0: 0, 1: 6, 2: 12, 3: 18, 4: 24}</td>\n",
       "      <td>[0, 0, 2, 2, 2, 2, 2, 2, 2, 0, 3, 3, 3, 3, 0, ...</td>\n",
       "    </tr>\n",
       "    <tr>\n",
       "      <th>7219</th>\n",
       "      <td>{0: 0, 1: 6, 2: 12, 3: 18, 4: 24}</td>\n",
       "      <td>[0, 0, 2, 2, 0, 3, 3, 3, 3, 3, 3, 3, 3, 3, 0, ...</td>\n",
       "    </tr>\n",
       "    <tr>\n",
       "      <th>7231</th>\n",
       "      <td>{0: 0, 1: 6, 2: 12, 3: 18, 4: 24}</td>\n",
       "      <td>[0, 0, 2, 2, 2, 0, 3, 3, 3, 3, 3, 3, 3, 3, 0, ...</td>\n",
       "    </tr>\n",
       "    <tr>\n",
       "      <th>7242</th>\n",
       "      <td>{0: 0, 1: 6, 2: 12, 3: 18, 4: 24}</td>\n",
       "      <td>[0, 0, 2, 2, 2, 2, 0, 3, 3, 3, 3, 3, 3, 3, 0, ...</td>\n",
       "    </tr>\n",
       "    <tr>\n",
       "      <th>7459</th>\n",
       "      <td>{0: 0, 1: 6, 2: 12, 3: 18, 4: 24}</td>\n",
       "      <td>[0, 0, 2, 2, 0, 3, 3, 3, 3, 3, 3, 3, 3, 3, 3, ...</td>\n",
       "    </tr>\n",
       "    <tr>\n",
       "      <th>7471</th>\n",
       "      <td>{0: 0, 1: 6, 2: 12, 3: 18, 4: 24}</td>\n",
       "      <td>[0, 0, 2, 2, 2, 0, 3, 3, 3, 3, 3, 3, 3, 3, 3, ...</td>\n",
       "    </tr>\n",
       "    <tr>\n",
       "      <th>7482</th>\n",
       "      <td>{0: 0, 1: 6, 2: 12, 3: 18, 4: 24}</td>\n",
       "      <td>[0, 0, 2, 2, 2, 2, 0, 3, 3, 3, 3, 3, 3, 3, 3, ...</td>\n",
       "    </tr>\n",
       "  </tbody>\n",
       "</table>\n",
       "</div>"
      ],
      "text/plain": [
       "                    scrollar invariants  \\\n",
       "6805  {0: 0, 1: 6, 2: 12, 3: 18, 4: 24}   \n",
       "6812  {0: 0, 1: 6, 2: 12, 3: 18, 4: 24}   \n",
       "7149  {0: 0, 1: 6, 2: 12, 3: 18, 4: 24}   \n",
       "7156  {0: 0, 1: 6, 2: 12, 3: 18, 4: 24}   \n",
       "7219  {0: 0, 1: 6, 2: 12, 3: 18, 4: 24}   \n",
       "7231  {0: 0, 1: 6, 2: 12, 3: 18, 4: 24}   \n",
       "7242  {0: 0, 1: 6, 2: 12, 3: 18, 4: 24}   \n",
       "7459  {0: 0, 1: 6, 2: 12, 3: 18, 4: 24}   \n",
       "7471  {0: 0, 1: 6, 2: 12, 3: 18, 4: 24}   \n",
       "7482  {0: 0, 1: 6, 2: 12, 3: 18, 4: 24}   \n",
       "\n",
       "                                                torsion  \n",
       "6805  [0, 0, 2, 2, 2, 2, 2, 2, 0, 3, 3, 3, 3, 0, 2, ...  \n",
       "6812  [0, 0, 2, 2, 2, 2, 2, 2, 2, 0, 3, 3, 3, 0, 2, ...  \n",
       "7149  [0, 0, 2, 2, 2, 2, 2, 2, 0, 3, 3, 3, 3, 3, 0, ...  \n",
       "7156  [0, 0, 2, 2, 2, 2, 2, 2, 2, 0, 3, 3, 3, 3, 0, ...  \n",
       "7219  [0, 0, 2, 2, 0, 3, 3, 3, 3, 3, 3, 3, 3, 3, 0, ...  \n",
       "7231  [0, 0, 2, 2, 2, 0, 3, 3, 3, 3, 3, 3, 3, 3, 0, ...  \n",
       "7242  [0, 0, 2, 2, 2, 2, 0, 3, 3, 3, 3, 3, 3, 3, 0, ...  \n",
       "7459  [0, 0, 2, 2, 0, 3, 3, 3, 3, 3, 3, 3, 3, 3, 3, ...  \n",
       "7471  [0, 0, 2, 2, 2, 0, 3, 3, 3, 3, 3, 3, 3, 3, 3, ...  \n",
       "7482  [0, 0, 2, 2, 2, 2, 0, 3, 3, 3, 3, 3, 3, 3, 3, ...  "
      ]
     },
     "execution_count": 22,
     "metadata": {},
     "output_type": "execute_result"
    }
   ],
   "source": [
    "g20k5.nlargest(n, 'first scrollar invariant')[['scrollar invariants','torsion']]"
   ]
  },
  {
   "cell_type": "code",
   "execution_count": 23,
   "metadata": {},
   "outputs": [
    {
     "data": {
      "text/html": [
       "<div>\n",
       "<style scoped>\n",
       "    .dataframe tbody tr th:only-of-type {\n",
       "        vertical-align: middle;\n",
       "    }\n",
       "\n",
       "    .dataframe tbody tr th {\n",
       "        vertical-align: top;\n",
       "    }\n",
       "\n",
       "    .dataframe thead th {\n",
       "        text-align: right;\n",
       "    }\n",
       "</style>\n",
       "<table border=\"1\" class=\"dataframe\">\n",
       "  <thead>\n",
       "    <tr style=\"text-align: right;\">\n",
       "      <th></th>\n",
       "      <th>scrollar invariants</th>\n",
       "      <th>torsion</th>\n",
       "    </tr>\n",
       "  </thead>\n",
       "  <tbody>\n",
       "    <tr>\n",
       "      <th>0</th>\n",
       "      <td>{0: 0, 1: 2, 2: 7, 3: 15, 4: 24}</td>\n",
       "      <td>[0, 0, 0, 2, 2, 2, 2, 2, 2, 2, 2, 2, 2, 2, 2, ...</td>\n",
       "    </tr>\n",
       "    <tr>\n",
       "      <th>1</th>\n",
       "      <td>{0: 0, 1: 2, 2: 8, 3: 16, 4: 24}</td>\n",
       "      <td>[0, 0, 0, 0, 2, 2, 2, 2, 2, 2, 2, 2, 2, 2, 2, ...</td>\n",
       "    </tr>\n",
       "    <tr>\n",
       "      <th>2</th>\n",
       "      <td>{0: 0, 1: 2, 2: 8, 3: 16, 4: 24}</td>\n",
       "      <td>[0, 0, 0, 0, 2, 2, 2, 2, 2, 2, 2, 2, 2, 2, 2, ...</td>\n",
       "    </tr>\n",
       "    <tr>\n",
       "      <th>3</th>\n",
       "      <td>{0: 0, 1: 2, 2: 8, 3: 16, 4: 24}</td>\n",
       "      <td>[0, 0, 0, 0, 2, 2, 2, 2, 2, 2, 2, 2, 2, 2, 2, ...</td>\n",
       "    </tr>\n",
       "    <tr>\n",
       "      <th>4</th>\n",
       "      <td>{0: 0, 1: 2, 2: 7, 3: 15, 4: 24}</td>\n",
       "      <td>[0, 0, 2, 0, 2, 2, 2, 2, 2, 2, 2, 2, 2, 2, 2, ...</td>\n",
       "    </tr>\n",
       "    <tr>\n",
       "      <th>5</th>\n",
       "      <td>{0: 0, 1: 2, 2: 8, 3: 16, 4: 24}</td>\n",
       "      <td>[0, 0, 2, 0, 0, 2, 2, 2, 2, 2, 2, 2, 2, 2, 2, ...</td>\n",
       "    </tr>\n",
       "    <tr>\n",
       "      <th>6</th>\n",
       "      <td>{0: 0, 1: 2, 2: 8, 3: 16, 4: 24}</td>\n",
       "      <td>[0, 0, 0, 0, 2, 2, 2, 2, 2, 2, 2, 2, 2, 2, 2, ...</td>\n",
       "    </tr>\n",
       "    <tr>\n",
       "      <th>8</th>\n",
       "      <td>{0: 0, 1: 2, 2: 8, 3: 16, 4: 24}</td>\n",
       "      <td>[0, 0, 0, 0, 2, 2, 2, 2, 2, 2, 2, 2, 2, 2, 2, ...</td>\n",
       "    </tr>\n",
       "    <tr>\n",
       "      <th>10</th>\n",
       "      <td>{0: 0, 1: 2, 2: 7, 3: 15, 4: 24}</td>\n",
       "      <td>[0, 0, 2, 2, 0, 2, 2, 2, 2, 2, 2, 2, 2, 2, 2, ...</td>\n",
       "    </tr>\n",
       "    <tr>\n",
       "      <th>11</th>\n",
       "      <td>{0: 0, 1: 2, 2: 8, 3: 16, 4: 24}</td>\n",
       "      <td>[0, 0, 2, 2, 0, 0, 2, 2, 2, 2, 2, 2, 2, 2, 2, ...</td>\n",
       "    </tr>\n",
       "  </tbody>\n",
       "</table>\n",
       "</div>"
      ],
      "text/plain": [
       "                 scrollar invariants  \\\n",
       "0   {0: 0, 1: 2, 2: 7, 3: 15, 4: 24}   \n",
       "1   {0: 0, 1: 2, 2: 8, 3: 16, 4: 24}   \n",
       "2   {0: 0, 1: 2, 2: 8, 3: 16, 4: 24}   \n",
       "3   {0: 0, 1: 2, 2: 8, 3: 16, 4: 24}   \n",
       "4   {0: 0, 1: 2, 2: 7, 3: 15, 4: 24}   \n",
       "5   {0: 0, 1: 2, 2: 8, 3: 16, 4: 24}   \n",
       "6   {0: 0, 1: 2, 2: 8, 3: 16, 4: 24}   \n",
       "8   {0: 0, 1: 2, 2: 8, 3: 16, 4: 24}   \n",
       "10  {0: 0, 1: 2, 2: 7, 3: 15, 4: 24}   \n",
       "11  {0: 0, 1: 2, 2: 8, 3: 16, 4: 24}   \n",
       "\n",
       "                                              torsion  \n",
       "0   [0, 0, 0, 2, 2, 2, 2, 2, 2, 2, 2, 2, 2, 2, 2, ...  \n",
       "1   [0, 0, 0, 0, 2, 2, 2, 2, 2, 2, 2, 2, 2, 2, 2, ...  \n",
       "2   [0, 0, 0, 0, 2, 2, 2, 2, 2, 2, 2, 2, 2, 2, 2, ...  \n",
       "3   [0, 0, 0, 0, 2, 2, 2, 2, 2, 2, 2, 2, 2, 2, 2, ...  \n",
       "4   [0, 0, 2, 0, 2, 2, 2, 2, 2, 2, 2, 2, 2, 2, 2, ...  \n",
       "5   [0, 0, 2, 0, 0, 2, 2, 2, 2, 2, 2, 2, 2, 2, 2, ...  \n",
       "6   [0, 0, 0, 0, 2, 2, 2, 2, 2, 2, 2, 2, 2, 2, 2, ...  \n",
       "8   [0, 0, 0, 0, 2, 2, 2, 2, 2, 2, 2, 2, 2, 2, 2, ...  \n",
       "10  [0, 0, 2, 2, 0, 2, 2, 2, 2, 2, 2, 2, 2, 2, 2, ...  \n",
       "11  [0, 0, 2, 2, 0, 0, 2, 2, 2, 2, 2, 2, 2, 2, 2, ...  "
      ]
     },
     "execution_count": 23,
     "metadata": {},
     "output_type": "execute_result"
    }
   ],
   "source": [
    "g20k5.nsmallest(n, 'first scrollar invariant')[['scrollar invariants','torsion']]"
   ]
  },
  {
   "cell_type": "code",
   "execution_count": 24,
   "metadata": {},
   "outputs": [],
   "source": [
    "def count_mountain_widths(torsion):\n",
    "    current_number = torsion[0]\n",
    "    count = 0\n",
    "    widths = []\n",
    "    for number in torsion:\n",
    "        if number != current_number:\n",
    "            widths.append({current_number:count})\n",
    "            count = 0\n",
    "        count += 1\n",
    "        current_number = number\n",
    "    # account for final number\n",
    "    widths.append({current_number:count})\n",
    "    return widths"
   ]
  },
  {
   "cell_type": "code",
   "execution_count": 25,
   "metadata": {},
   "outputs": [
    {
     "name": "stdout",
     "output_type": "stream",
     "text": [
      "[{2: 3}, {0: 1}, {3: 2}, {4: 1}]\n"
     ]
    }
   ],
   "source": [
    "print(count_mountain_widths([2, 2, 2, 0, 3, 3, 4]))"
   ]
  },
  {
   "cell_type": "code",
   "execution_count": 26,
   "metadata": {},
   "outputs": [],
   "source": [
    "g20k5['profile'] = g20k5['torsion'].apply(lambda x : count_mountain_widths(ast.literal_eval(x)))"
   ]
  },
  {
   "cell_type": "code",
   "execution_count": 27,
   "metadata": {},
   "outputs": [
    {
     "data": {
      "text/plain": [
       "6805    [{0: 2}, {2: 6}, {0: 1}, {3: 4}, {0: 1}, {2: 1...\n",
       "6812    [{0: 2}, {2: 7}, {0: 1}, {3: 3}, {0: 1}, {2: 1...\n",
       "7149    [{0: 2}, {2: 6}, {0: 1}, {3: 5}, {0: 3}, {2: 1...\n",
       "7156    [{0: 2}, {2: 7}, {0: 1}, {3: 4}, {0: 3}, {2: 1...\n",
       "7219    [{0: 2}, {2: 2}, {0: 1}, {3: 9}, {0: 1}, {2: 1...\n",
       "7231    [{0: 2}, {2: 3}, {0: 1}, {3: 8}, {0: 1}, {2: 1...\n",
       "7242    [{0: 2}, {2: 4}, {0: 1}, {3: 7}, {0: 1}, {2: 1...\n",
       "7459            [{0: 2}, {2: 2}, {0: 1}, {3: 10}, {0: 4}]\n",
       "7471             [{0: 2}, {2: 3}, {0: 1}, {3: 9}, {0: 4}]\n",
       "7482             [{0: 2}, {2: 4}, {0: 1}, {3: 8}, {0: 4}]\n",
       "Name: profile, dtype: object"
      ]
     },
     "execution_count": 27,
     "metadata": {},
     "output_type": "execute_result"
    }
   ],
   "source": [
    "g20k5.nlargest(n, 'mean scrollar invariant')['profile']"
   ]
  },
  {
   "cell_type": "code",
   "execution_count": 28,
   "metadata": {},
   "outputs": [
    {
     "data": {
      "text/plain": [
       "6805    [{0: 2}, {2: 6}, {0: 1}, {3: 4}, {0: 1}, {2: 1...\n",
       "6812    [{0: 2}, {2: 7}, {0: 1}, {3: 3}, {0: 1}, {2: 1...\n",
       "7149    [{0: 2}, {2: 6}, {0: 1}, {3: 5}, {0: 3}, {2: 1...\n",
       "7156    [{0: 2}, {2: 7}, {0: 1}, {3: 4}, {0: 3}, {2: 1...\n",
       "7219    [{0: 2}, {2: 2}, {0: 1}, {3: 9}, {0: 1}, {2: 1...\n",
       "7231    [{0: 2}, {2: 3}, {0: 1}, {3: 8}, {0: 1}, {2: 1...\n",
       "7242    [{0: 2}, {2: 4}, {0: 1}, {3: 7}, {0: 1}, {2: 1...\n",
       "7459            [{0: 2}, {2: 2}, {0: 1}, {3: 10}, {0: 4}]\n",
       "7471             [{0: 2}, {2: 3}, {0: 1}, {3: 9}, {0: 4}]\n",
       "7482             [{0: 2}, {2: 4}, {0: 1}, {3: 8}, {0: 4}]\n",
       "Name: profile, dtype: object"
      ]
     },
     "execution_count": 28,
     "metadata": {},
     "output_type": "execute_result"
    }
   ],
   "source": [
    "g20k5.nlargest(n, 'first scrollar invariant')['profile']"
   ]
  },
  {
   "cell_type": "code",
   "execution_count": 29,
   "metadata": {},
   "outputs": [],
   "source": [
    "def count_mountain_widths_as_list(torsion):\n",
    "    current_number = torsion[0]\n",
    "    count = 0\n",
    "    widths = []\n",
    "    for number in torsion:\n",
    "        if number != current_number:\n",
    "            widths.append(current_number)\n",
    "            widths.append(count)\n",
    "            count = 0\n",
    "        count += 1\n",
    "        current_number = number\n",
    "    # account for final number\n",
    "    widths.append(current_number)\n",
    "    widths.append(count)\n",
    "    return tuple(widths)"
   ]
  },
  {
   "cell_type": "code",
   "execution_count": 30,
   "metadata": {},
   "outputs": [],
   "source": [
    "g20k5['profile_as_list'] = g20k5['torsion'].apply(lambda x : count_mountain_widths_as_list(ast.literal_eval(x)))"
   ]
  },
  {
   "cell_type": "code",
   "execution_count": 31,
   "metadata": {},
   "outputs": [
    {
     "data": {
      "text/plain": [
       "profile_as_list\n",
       "(0, 2, 2, 4, 0, 1, 3, 7, 0, 1, 2, 1, 0, 3)          11.5\n",
       "(2, 2, 0, 3, 3, 9, 0, 1, 2, 1, 0, 3)                11.5\n",
       "(0, 2, 2, 3, 0, 1, 3, 8, 0, 1, 2, 1, 0, 3)          11.5\n",
       "(0, 2, 2, 2, 0, 1, 3, 9, 0, 1, 2, 1, 0, 3)          11.5\n",
       "(2, 2, 0, 2, 2, 1, 0, 1, 3, 8, 0, 1, 2, 1, 0, 3)    11.5\n",
       "                                                    ... \n",
       "(0, 1, 2, 12, 0, 2, 2, 3, 0, 1)                      9.6\n",
       "(2, 10, 0, 2, 2, 1, 0, 1, 2, 4, 0, 1)                9.6\n",
       "(2, 2, 0, 2, 2, 10, 0, 2, 2, 2, 0, 1)                9.6\n",
       "(2, 2, 0, 2, 2, 11, 0, 1, 2, 2, 0, 1)                9.6\n",
       "(2, 15, 0, 4)                                        9.6\n",
       "Name: mean scrollar invariant, Length: 20816, dtype: float64"
      ]
     },
     "execution_count": 31,
     "metadata": {},
     "output_type": "execute_result"
    }
   ],
   "source": [
    "g20k5.groupby(['profile_as_list'])['mean scrollar invariant'].mean().sort_values(ascending=False)"
   ]
  },
  {
   "cell_type": "code",
   "execution_count": 32,
   "metadata": {},
   "outputs": [
    {
     "data": {
      "text/plain": [
       "profile_as_list\n",
       "(2, 2, 0, 5, 2, 11, 0, 1)                                                   10\n",
       "(2, 6, 0, 5, 2, 7, 0, 1)                                                    10\n",
       "(2, 5, 0, 5, 2, 8, 0, 1)                                                    10\n",
       "(0, 5, 2, 13, 0, 1)                                                         10\n",
       "(2, 3, 0, 5, 2, 10, 0, 1)                                                   10\n",
       "                                                                            ..\n",
       "(2, 1, 0, 2, 2, 4, 0, 1, 3, 1, 0, 1, 2, 1, 0, 1, 3, 4, 0, 1, 2, 1, 0, 1)     1\n",
       "(2, 1, 0, 2, 2, 4, 0, 1, 3, 1, 0, 1, 2, 1, 0, 1, 3, 5, 0, 2)                 1\n",
       "(2, 1, 0, 2, 2, 4, 0, 1, 3, 1, 0, 1, 2, 2, 0, 1, 2, 5, 0, 1)                 1\n",
       "(2, 1, 0, 2, 2, 4, 0, 1, 3, 1, 0, 1, 2, 2, 0, 1, 3, 1, 0, 1, 2, 3, 0, 1)     1\n",
       "(2, 15, 0, 4)                                                                1\n",
       "Name: mean scrollar invariant, Length: 20816, dtype: int64"
      ]
     },
     "execution_count": 32,
     "metadata": {},
     "output_type": "execute_result"
    }
   ],
   "source": [
    "g20k5.groupby(['profile_as_list'])['mean scrollar invariant'].count().sort_values(ascending=False)"
   ]
  },
  {
   "cell_type": "code",
   "execution_count": null,
   "metadata": {},
   "outputs": [],
   "source": []
  }
 ],
 "metadata": {
  "kernelspec": {
   "display_name": "SageMath 9.2",
   "language": "sage",
   "name": "sagemath"
  },
  "language_info": {
   "codemirror_mode": {
    "name": "ipython",
    "version": 3
   },
   "file_extension": ".py",
   "mimetype": "text/x-python",
   "name": "python",
   "nbconvert_exporter": "python",
   "pygments_lexer": "ipython3",
   "version": "3.7.7"
  }
 },
 "nbformat": 4,
 "nbformat_minor": 4
}
